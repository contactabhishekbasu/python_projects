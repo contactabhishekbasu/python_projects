{
 "cells": [
  {
   "cell_type": "markdown",
   "metadata": {
    "colab_type": "text",
    "id": "view-in-github"
   },
   "source": [
    "<a href=\"https://colab.research.google.com/github/contactabhishekbasu/python_projects/blob/main/readgooglesheets.ipynb\" target=\"_parent\"><img src=\"https://colab.research.google.com/assets/colab-badge.svg\" alt=\"Open In Colab\"/></a>"
   ]
  },
  {
   "cell_type": "markdown",
   "metadata": {
    "id": "ZwwBAxmHutPo"
   },
   "source": [
    "# **Read data from Google Sheets using Python**"
   ]
  },
  {
   "cell_type": "markdown",
   "metadata": {
    "id": "2BnWYN_PrxVq"
   },
   "source": [
    "*   Since reading data from Google Sheets is different from Excel or CSV file, this is because it is not possible in python. In this tiny project, I will show you how to do it.\n",
    "*   For this task, make sure you have an excel file in your google drive. I will use Google Colab (a great alternative of Jupyter notebooks) for this task since other IDE's give errors.\n",
    "\n"
   ]
  },
  {
   "cell_type": "code",
   "execution_count": null,
   "metadata": {
    "id": "NhOQor-grvgs"
   },
   "outputs": [],
   "source": [
    "from google.colab import auth\n",
    "auth.authenticate_user()\n",
    "import requests\n",
    "import gspread\n",
    "from oauth2client.client import GoogleCredentials\n",
    "gc = gspread.authorize(GoogleCredentials.get_application_default())"
   ]
  },
  {
   "cell_type": "markdown",
   "metadata": {
    "id": "TszLAP3dr6MU"
   },
   "source": [
    "After running the code above, you will get a link in the output. Open that link in the browser, log in if required and copy the authentication code and paste it in the output window. This will allow you to to connect Google Colab with Sheets.\n",
    "![Screenshot 2021-06-14 at 11.33.27 PM.png](data:image/png;base64,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)"
   ]
  },
  {
   "cell_type": "code",
   "execution_count": null,
   "metadata": {
    "colab": {
     "base_uri": "https://localhost:8080/",
     "height": 206
    },
    "id": "aIrwpkHRr9Fk",
    "outputId": "72e17fb6-8e6e-41a9-af04-f9154751a54b"
   },
   "outputs": [
    {
     "data": {
      "text/html": [
       "<div>\n",
       "<style scoped>\n",
       "    .dataframe tbody tr th:only-of-type {\n",
       "        vertical-align: middle;\n",
       "    }\n",
       "\n",
       "    .dataframe tbody tr th {\n",
       "        vertical-align: top;\n",
       "    }\n",
       "\n",
       "    .dataframe thead th {\n",
       "        text-align: right;\n",
       "    }\n",
       "</style>\n",
       "<table border=\"1\" class=\"dataframe\">\n",
       "  <thead>\n",
       "    <tr style=\"text-align: right;\">\n",
       "      <th></th>\n",
       "      <th>0</th>\n",
       "      <th>1</th>\n",
       "      <th>2</th>\n",
       "      <th>3</th>\n",
       "      <th>4</th>\n",
       "    </tr>\n",
       "  </thead>\n",
       "  <tbody>\n",
       "    <tr>\n",
       "      <th>0</th>\n",
       "      <td>Department</td>\n",
       "      <td>Department</td>\n",
       "      <td>Full Deparment Name</td>\n",
       "      <td>Equipment Class</td>\n",
       "      <td>Equipment Count</td>\n",
       "    </tr>\n",
       "    <tr>\n",
       "      <th>1</th>\n",
       "      <td>Board of</td>\n",
       "      <td>Elections</td>\n",
       "      <td>Board of Elections</td>\n",
       "      <td>Van</td>\n",
       "      <td>1</td>\n",
       "    </tr>\n",
       "    <tr>\n",
       "      <th>2</th>\n",
       "      <td>Board of</td>\n",
       "      <td>Elections</td>\n",
       "      <td>Board of Elections</td>\n",
       "      <td>Off Road Vehicle Equipment</td>\n",
       "      <td>2</td>\n",
       "    </tr>\n",
       "    <tr>\n",
       "      <th>3</th>\n",
       "      <td>Circuit</td>\n",
       "      <td>Court</td>\n",
       "      <td>Circuit Court</td>\n",
       "      <td>SUV</td>\n",
       "      <td>1</td>\n",
       "    </tr>\n",
       "    <tr>\n",
       "      <th>4</th>\n",
       "      <td>Community Engagement</td>\n",
       "      <td>Cluster</td>\n",
       "      <td>Community Engagement Cluster</td>\n",
       "      <td>Pick Up Trucks</td>\n",
       "      <td>8</td>\n",
       "    </tr>\n",
       "  </tbody>\n",
       "</table>\n",
       "</div>"
      ],
      "text/plain": [
       "                      0  ...                4\n",
       "0            Department  ...  Equipment Count\n",
       "1              Board of  ...                1\n",
       "2              Board of  ...                2\n",
       "3               Circuit  ...                1\n",
       "4  Community Engagement  ...                8\n",
       "\n",
       "[5 rows x 5 columns]"
      ]
     },
     "execution_count": 2,
     "metadata": {
      "tags": []
     },
     "output_type": "execute_result"
    }
   ],
   "source": [
    "import pandas as pd\n",
    "sh = gc.open_by_url(\"https://docs.google.com/spreadsheets/d/1KjFcTr4bj6CuCGTf8dutpwpi4DdGFuHTW_WK0XO4Ij8/edit#gid=0\") # you can open the file using URL\n",
    "worksheet = sh.sheet1\n",
    "values_list = worksheet.get_all_values()\n",
    "df = pd.DataFrame(values_list[1:], columns=values_list[0])\n",
    "df.head()"
   ]
  },
  {
   "cell_type": "code",
   "execution_count": null,
   "metadata": {
    "colab": {
     "base_uri": "https://localhost:8080/",
     "height": 206
    },
    "id": "RkxWnFk6sAFx",
    "outputId": "025779b9-dca2-4b66-9423-0aa0ed041ea8"
   },
   "outputs": [
    {
     "data": {
      "text/html": [
       "<div>\n",
       "<style scoped>\n",
       "    .dataframe tbody tr th:only-of-type {\n",
       "        vertical-align: middle;\n",
       "    }\n",
       "\n",
       "    .dataframe tbody tr th {\n",
       "        vertical-align: top;\n",
       "    }\n",
       "\n",
       "    .dataframe thead th {\n",
       "        text-align: right;\n",
       "    }\n",
       "</style>\n",
       "<table border=\"1\" class=\"dataframe\">\n",
       "  <thead>\n",
       "    <tr style=\"text-align: right;\">\n",
       "      <th></th>\n",
       "      <th>0</th>\n",
       "      <th>1</th>\n",
       "      <th>2</th>\n",
       "      <th>3</th>\n",
       "      <th>4</th>\n",
       "    </tr>\n",
       "  </thead>\n",
       "  <tbody>\n",
       "    <tr>\n",
       "      <th>0</th>\n",
       "      <td>Department</td>\n",
       "      <td>Department</td>\n",
       "      <td>Full Deparment Name</td>\n",
       "      <td>Equipment Class</td>\n",
       "      <td>Equipment Count</td>\n",
       "    </tr>\n",
       "    <tr>\n",
       "      <th>1</th>\n",
       "      <td>Board of</td>\n",
       "      <td>Elections</td>\n",
       "      <td>Board of Elections</td>\n",
       "      <td>Van</td>\n",
       "      <td>1</td>\n",
       "    </tr>\n",
       "    <tr>\n",
       "      <th>2</th>\n",
       "      <td>Board of</td>\n",
       "      <td>Elections</td>\n",
       "      <td>Board of Elections</td>\n",
       "      <td>Off Road Vehicle Equipment</td>\n",
       "      <td>2</td>\n",
       "    </tr>\n",
       "    <tr>\n",
       "      <th>3</th>\n",
       "      <td>Circuit</td>\n",
       "      <td>Court</td>\n",
       "      <td>Circuit Court</td>\n",
       "      <td>SUV</td>\n",
       "      <td>1</td>\n",
       "    </tr>\n",
       "    <tr>\n",
       "      <th>4</th>\n",
       "      <td>Community Engagement</td>\n",
       "      <td>Cluster</td>\n",
       "      <td>Community Engagement Cluster</td>\n",
       "      <td>Pick Up Trucks</td>\n",
       "      <td>8</td>\n",
       "    </tr>\n",
       "  </tbody>\n",
       "</table>\n",
       "</div>"
      ],
      "text/plain": [
       "                      0  ...                4\n",
       "0            Department  ...  Equipment Count\n",
       "1              Board of  ...                1\n",
       "2              Board of  ...                2\n",
       "3               Circuit  ...                1\n",
       "4  Community Engagement  ...                8\n",
       "\n",
       "[5 rows x 5 columns]"
      ]
     },
     "execution_count": 3,
     "metadata": {
      "tags": []
     },
     "output_type": "execute_result"
    }
   ],
   "source": [
    "import pandas as pd\n",
    "sh = gc.open(\"Montgomery_Fleet_Equipment_Inventory_FA_PART_1_END_G\") # you can also open the file using file name\n",
    "worksheet = sh.sheet1\n",
    "values_list = worksheet.get_all_values()\n",
    "df = pd.DataFrame(values_list[1:], columns=values_list[0])\n",
    "df.head()"
   ]
  }
 ],
 "metadata": {
  "colab": {
   "authorship_tag": "ABX9TyP6uFJ8tYzrF8BJM2qnqxO5",
   "include_colab_link": true,
   "name": "readgooglesheets.ipynb",
   "provenance": []
  },
  "kernelspec": {
   "display_name": "Python 3",
   "name": "python3"
  },
  "language_info": {
   "name": "python"
  }
 },
 "nbformat": 4,
 "nbformat_minor": 0
}
